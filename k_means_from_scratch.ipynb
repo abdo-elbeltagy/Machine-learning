{
  "nbformat": 4,
  "nbformat_minor": 0,
  "metadata": {
    "colab": {
      "name": "k-means from scratch.ipynb",
      "provenance": [],
      "authorship_tag": "ABX9TyOL57q4bTlg2tOrDvuRYfj9",
      "include_colab_link": true
    },
    "kernelspec": {
      "name": "python3",
      "display_name": "Python 3"
    },
    "language_info": {
      "name": "python"
    }
  },
  "cells": [
    {
      "cell_type": "markdown",
      "metadata": {
        "id": "view-in-github",
        "colab_type": "text"
      },
      "source": [
        "<a href=\"https://colab.research.google.com/github/abdo-elbeltagy/Machine-learning/blob/main/k_means_from_scratch.ipynb\" target=\"_parent\"><img src=\"https://colab.research.google.com/assets/colab-badge.svg\" alt=\"Open In Colab\"/></a>"
      ]
    },
    {
      "cell_type": "markdown",
      "source": [
        "# this notebook is to implement kmeans algorithm from scratch"
      ],
      "metadata": {
        "id": "3dyFGQCxAKlU"
      }
    },
    {
      "cell_type": "code",
      "execution_count": 1,
      "metadata": {
        "id": "2thEMXGShFNk"
      },
      "outputs": [],
      "source": [
        "import numpy as np"
      ]
    },
    {
      "cell_type": "code",
      "source": [
        "  from sklearn.datasets import load_digits\n",
        "  from sklearn.decomposition import PCA\n",
        "  from sklearn.cluster import KMeans"
      ],
      "metadata": {
        "id": "k7VIYyYDhKXS"
      },
      "execution_count": 2,
      "outputs": []
    },
    {
      "cell_type": "code",
      "source": [
        "import matplotlib.pyplot as plt\n",
        "from scipy.spatial.distance import cdist"
      ],
      "metadata": {
        "id": "vdMfYpPfhkuZ"
      },
      "execution_count": 3,
      "outputs": []
    },
    {
      "cell_type": "code",
      "source": [
        "data=load_digits()\n",
        "data.images[0].shape"
      ],
      "metadata": {
        "colab": {
          "base_uri": "https://localhost:8080/"
        },
        "id": "AnPyMqTpkZqW",
        "outputId": "459ae13e-a580-4447-dcbb-397c1bdae195"
      },
      "execution_count": 4,
      "outputs": [
        {
          "output_type": "execute_result",
          "data": {
            "text/plain": [
              "(8, 8)"
            ]
          },
          "metadata": {},
          "execution_count": 4
        }
      ]
    },
    {
      "cell_type": "code",
      "source": [
        "  data.data.shape"
      ],
      "metadata": {
        "colab": {
          "base_uri": "https://localhost:8080/"
        },
        "id": "UZr8ScvLkebQ",
        "outputId": "c4583bce-37bf-4bd2-9fcb-07b7ffc9f347"
      },
      "execution_count": 5,
      "outputs": [
        {
          "output_type": "execute_result",
          "data": {
            "text/plain": [
              "(1797, 64)"
            ]
          },
          "metadata": {},
          "execution_count": 5
        }
      ]
    },
    {
      "cell_type": "code",
      "source": [
        "x=data.data\n",
        "y=data.target\n",
        "print(x[0])"
      ],
      "metadata": {
        "colab": {
          "base_uri": "https://localhost:8080/"
        },
        "id": "nCKhKvzhoSDs",
        "outputId": "48f158cf-722b-415a-cbed-44fd9cac6636"
      },
      "execution_count": 6,
      "outputs": [
        {
          "output_type": "stream",
          "name": "stdout",
          "text": [
            "[ 0.  0.  5. 13.  9.  1.  0.  0.  0.  0. 13. 15. 10. 15.  5.  0.  0.  3.\n",
            " 15.  2.  0. 11.  8.  0.  0.  4. 12.  0.  0.  8.  8.  0.  0.  5.  8.  0.\n",
            "  0.  9.  8.  0.  0.  4. 11.  0.  1. 12.  7.  0.  0.  2. 14.  5. 10. 12.\n",
            "  0.  0.  0.  0.  6. 13. 10.  0.  0.  0.]\n"
          ]
        }
      ]
    },
    {
      "cell_type": "code",
      "source": [
        "data.images[0]"
      ],
      "metadata": {
        "colab": {
          "base_uri": "https://localhost:8080/"
        },
        "id": "ptk0yUAWo3_1",
        "outputId": "c326d7ed-be8c-43e7-cc5b-1703aedcc39e"
      },
      "execution_count": 7,
      "outputs": [
        {
          "output_type": "execute_result",
          "data": {
            "text/plain": [
              "array([[ 0.,  0.,  5., 13.,  9.,  1.,  0.,  0.],\n",
              "       [ 0.,  0., 13., 15., 10., 15.,  5.,  0.],\n",
              "       [ 0.,  3., 15.,  2.,  0., 11.,  8.,  0.],\n",
              "       [ 0.,  4., 12.,  0.,  0.,  8.,  8.,  0.],\n",
              "       [ 0.,  5.,  8.,  0.,  0.,  9.,  8.,  0.],\n",
              "       [ 0.,  4., 11.,  0.,  1., 12.,  7.,  0.],\n",
              "       [ 0.,  2., 14.,  5., 10., 12.,  0.,  0.],\n",
              "       [ 0.,  0.,  6., 13., 10.,  0.,  0.,  0.]])"
            ]
          },
          "metadata": {},
          "execution_count": 7
        }
      ]
    },
    {
      "cell_type": "code",
      "source": [
        "\n",
        "print(data.data[0].reshape(8,-1))\n",
        "plt.matshow(data.data[0].reshape(8,-1))\n",
        "plt.show()"
      ],
      "metadata": {
        "id": "JxY2ErXlpAls",
        "colab": {
          "base_uri": "https://localhost:8080/",
          "height": 414
        },
        "outputId": "182895b3-5b5f-46e8-ee83-36fa2107b0e3"
      },
      "execution_count": 18,
      "outputs": [
        {
          "output_type": "stream",
          "name": "stdout",
          "text": [
            "[[ 0.  0.  5. 13.  9.  1.  0.  0.]\n",
            " [ 0.  0. 13. 15. 10. 15.  5.  0.]\n",
            " [ 0.  3. 15.  2.  0. 11.  8.  0.]\n",
            " [ 0.  4. 12.  0.  0.  8.  8.  0.]\n",
            " [ 0.  5.  8.  0.  0.  9.  8.  0.]\n",
            " [ 0.  4. 11.  0.  1. 12.  7.  0.]\n",
            " [ 0.  2. 14.  5. 10. 12.  0.  0.]\n",
            " [ 0.  0.  6. 13. 10.  0.  0.  0.]]\n"
          ]
        },
        {
          "output_type": "display_data",
          "data": {
            "image/png": "[encoded data removed]",
            "text/plain": [
              "<Figure size 288x288 with 1 Axes>"
            ]
          },
          "metadata": {
            "needs_background": "light"
          }
        }
      ]
    },
    {
      "cell_type": "markdown",
      "source": [
        "# dimentionality reduction using principal component analysis"
      ],
      "metadata": {
        "id": "baRodo2cKom-"
      }
    },
    {
      "cell_type": "code",
      "source": [
        "pca=PCA(2)\n",
        "pca\n"
      ],
      "metadata": {
        "colab": {
          "base_uri": "https://localhost:8080/"
        },
        "id": "1qK3RHtTkdOu",
        "outputId": "3444e9c7-d01c-487c-b4b4-c32c09bdcb26"
      },
      "execution_count": 19,
      "outputs": [
        {
          "output_type": "execute_result",
          "data": {
            "text/plain": [
              "PCA(n_components=2)"
            ]
          },
          "metadata": {},
          "execution_count": 19
        }
      ]
    },
    {
      "cell_type": "code",
      "source": [
        "df=pca.fit_transform(data.data)\n",
        "df.shape"
      ],
      "metadata": {
        "colab": {
          "base_uri": "https://localhost:8080/"
        },
        "id": "K1dXMQRVlZ2-",
        "outputId": "e7fd7604-2082-4f6f-f8a5-acf4ef7476e6"
      },
      "execution_count": 22,
      "outputs": [
        {
          "output_type": "execute_result",
          "data": {
            "text/plain": [
              "(1797, 2)"
            ]
          },
          "metadata": {},
          "execution_count": 22
        }
      ]
    },
    {
      "cell_type": "code",
      "source": [
        "plt.scatter(df[:,0],df[:,1])\n",
        "plt.show()"
      ],
      "metadata": {
        "colab": {
          "base_uri": "https://localhost:8080/",
          "height": 265
        },
        "id": "3GbIOVGmlg90",
        "outputId": "c8bd92bf-9f25-4e9f-c2ec-aa64712871bb"
      },
      "execution_count": 28,
      "outputs": [
        {
          "output_type": "display_data",
          "data": {
            "image/png": "[encoded data removed]",
            "text/plain": [
              "<Figure size 432x288 with 1 Axes>"
            ]
          },
          "metadata": {
            "needs_background": "light"
          }
        }
      ]
    },
    {
      "cell_type": "code",
      "source": [
        "df[:,1]"
      ],
      "metadata": {
        "colab": {
          "base_uri": "https://localhost:8080/"
        },
        "id": "HHzbztD2mHoa",
        "outputId": "5c92b29f-d72d-4483-cb24-72c60da2720c"
      },
      "execution_count": 27,
      "outputs": [
        {
          "output_type": "execute_result",
          "data": {
            "text/plain": [
              "array([ 21.27488273, -20.76869661,  -9.95598623, ...,  -6.9602555 ,\n",
              "        12.42395534,   6.36554452])"
            ]
          },
          "metadata": {},
          "execution_count": 27
        }
      ]
    },
    {
      "cell_type": "code",
      "source": [
        "len(x)"
      ],
      "metadata": {
        "colab": {
          "base_uri": "https://localhost:8080/"
        },
        "id": "U1BxxUGFmKDo",
        "outputId": "abbc72d1-9800-46e1-e6cf-2f09166fcf90"
      },
      "execution_count": 29,
      "outputs": [
        {
          "output_type": "execute_result",
          "data": {
            "text/plain": [
              "1797"
            ]
          },
          "metadata": {},
          "execution_count": 29
        }
      ]
    },
    {
      "cell_type": "code",
      "source": [
        "from numpy.core.defchararray import replace\n",
        "idx=np.random.choice(len(x),10,replace=False)\n",
        "idx"
      ],
      "metadata": {
        "colab": {
          "base_uri": "https://localhost:8080/"
        },
        "id": "OghOyCR3mxev",
        "outputId": "0626bec1-bf3f-4432-e1bd-3f256839a926"
      },
      "execution_count": 30,
      "outputs": [
        {
          "output_type": "execute_result",
          "data": {
            "text/plain": [
              "array([  90,  681, 1258, 1046,  504, 1425,  217,  955,  304, 1062])"
            ]
          },
          "metadata": {},
          "execution_count": 30
        }
      ]
    },
    {
      "cell_type": "code",
      "source": [
        "# this is a side information\n",
        "# generate random integer array of length 4*3\n",
        "arr=np.random.randint(2,12,size=(3,4))\n",
        "arr"
      ],
      "metadata": {
        "colab": {
          "base_uri": "https://localhost:8080/"
        },
        "id": "KEXWaaHtnDT9",
        "outputId": "945515cb-d72c-4abc-b72e-0847ebf57211"
      },
      "execution_count": 38,
      "outputs": [
        {
          "output_type": "execute_result",
          "data": {
            "text/plain": [
              "array([[ 5, 10,  9,  5],\n",
              "       [11,  3,  2, 10],\n",
              "       [ 9,  3,  2,  5]])"
            ]
          },
          "metadata": {},
          "execution_count": 38
        }
      ]
    },
    {
      "cell_type": "code",
      "source": [
        "arr=np.linspace(1,2,10).reshape(2,5)\n",
        "np.argmin(arr,axis=1)"
      ],
      "metadata": {
        "colab": {
          "base_uri": "https://localhost:8080/"
        },
        "id": "rBHVv2gnpTtx",
        "outputId": "3fbaa104-3ca9-4c0a-fb81-c85ce0c4e6eb"
      },
      "execution_count": 43,
      "outputs": [
        {
          "output_type": "execute_result",
          "data": {
            "text/plain": [
              "array([0, 0])"
            ]
          },
          "metadata": {},
          "execution_count": 43
        }
      ]
    },
    {
      "cell_type": "code",
      "source": [
        "arr=np.arange(10)\n",
        "arr"
      ],
      "metadata": {
        "colab": {
          "base_uri": "https://localhost:8080/"
        },
        "id": "H6YIzeCSpdS6",
        "outputId": "97d2a983-1fd2-4d60-db21-df3866c60efb"
      },
      "execution_count": 40,
      "outputs": [
        {
          "output_type": "execute_result",
          "data": {
            "text/plain": [
              "array([0, 1, 2, 3, 4, 5, 6, 7, 8, 9])"
            ]
          },
          "metadata": {},
          "execution_count": 40
        }
      ]
    },
    {
      "cell_type": "code",
      "source": [
        "# for compinatorics we (choose) using random choise\n",
        "arr=np.random.choice(10,5,replace=False)\n",
        "cent=df[arr,:]"
      ],
      "metadata": {
        "id": "1RbakMqJpyrL"
      },
      "execution_count": 49,
      "outputs": []
    },
    {
      "cell_type": "code",
      "source": [
        "distances=cdist(df,cent,'euclidean')\n",
        "distances.shape"
      ],
      "metadata": {
        "colab": {
          "base_uri": "https://localhost:8080/"
        },
        "id": "n5IKefTbqhLV",
        "outputId": "3be17e0d-5099-4580-8ef9-2bc9fba9b834"
      },
      "execution_count": 52,
      "outputs": [
        {
          "output_type": "execute_result",
          "data": {
            "text/plain": [
              "(1797, 5)"
            ]
          },
          "metadata": {},
          "execution_count": 52
        }
      ]
    },
    {
      "cell_type": "code",
      "source": [
        "distances"
      ],
      "metadata": {
        "colab": {
          "base_uri": "https://localhost:8080/"
        },
        "id": "4PM-K_TcrDXq",
        "outputId": "41349699-d3a2-44dd-aff0-790ca25cb641"
      },
      "execution_count": 53,
      "outputs": [
        {
          "output_type": "execute_result",
          "data": {
            "text/plain": [
              "array([[23.16148881, 20.4849874 , 18.52158272, 29.87812434,  0.        ],\n",
              "       [33.91670073, 25.62164351, 36.17583162, 29.36816563, 43.04203574],\n",
              "       [26.47456056, 16.55520449, 27.63469697, 21.6455425 , 32.30251399],\n",
              "       ...,\n",
              "       [28.62211445, 18.00352328, 28.99462119, 16.80734329, 30.70317425],\n",
              "       [14.29700664, 11.24712266, 10.25921234, 29.33524429,  9.55981714],\n",
              "       [15.85456103,  7.139362  , 13.82971758, 23.74397338, 14.93739444]])"
            ]
          },
          "metadata": {},
          "execution_count": 53
        }
      ]
    },
    {
      "cell_type": "code",
      "source": [
        "cdist(df[1].reshape(1,-1),cent[1].reshape(1,-1),'euclidean')"
      ],
      "metadata": {
        "colab": {
          "base_uri": "https://localhost:8080/"
        },
        "id": "xrbdxjBErQFD",
        "outputId": "cdc1a32c-a37f-4d24-caf2-a6df64b6c9b8"
      },
      "execution_count": 69,
      "outputs": [
        {
          "output_type": "execute_result",
          "data": {
            "text/plain": [
              "array([[25.62164351]])"
            ]
          },
          "metadata": {},
          "execution_count": 69
        }
      ]
    },
    {
      "cell_type": "code",
      "source": [
        "cent[0].reshape(1,-1).shape"
      ],
      "metadata": {
        "colab": {
          "base_uri": "https://localhost:8080/"
        },
        "id": "y-UehuI_rbje",
        "outputId": "ea481529-4f48-41d7-e9d4-7a57d6e9b6d7"
      },
      "execution_count": 65,
      "outputs": [
        {
          "output_type": "execute_result",
          "data": {
            "text/plain": [
              "(1, 2)"
            ]
          },
          "metadata": {},
          "execution_count": 65
        }
      ]
    },
    {
      "cell_type": "code",
      "source": [
        "points=np.array([np.argmin(i) for i in distances])\n",
        "points"
      ],
      "metadata": {
        "colab": {
          "base_uri": "https://localhost:8080/"
        },
        "id": "bZckKvc1sA8N",
        "outputId": "16fd1643-d8cd-48e5-d89b-7cc85a0f7a6a"
      },
      "execution_count": 74,
      "outputs": [
        {
          "output_type": "execute_result",
          "data": {
            "text/plain": [
              "array([4, 1, 1, ..., 3, 4, 1])"
            ]
          },
          "metadata": {},
          "execution_count": 74
        }
      ]
    },
    {
      "cell_type": "code",
      "source": [
        "poi=np.argmin(distances,axis=1)\n",
        "poi"
      ],
      "metadata": {
        "colab": {
          "base_uri": "https://localhost:8080/"
        },
        "id": "YTqeHPShwDLW",
        "outputId": "6731f0e7-d7f1-42b0-c315-9010dd42c30c"
      },
      "execution_count": 76,
      "outputs": [
        {
          "output_type": "execute_result",
          "data": {
            "text/plain": [
              "array([4, 1, 1, ..., 3, 4, 1])"
            ]
          },
          "metadata": {},
          "execution_count": 76
        }
      ]
    },
    {
      "cell_type": "code",
      "source": [
        "cent"
      ],
      "metadata": {
        "colab": {
          "base_uri": "https://localhost:8080/"
        },
        "id": "dNuYmQ3kwjkV",
        "outputId": "8bf92e5a-ecea-4c04-fa6c-e790b66fa712"
      },
      "execution_count": 77,
      "outputs": [
        {
          "output_type": "execute_result",
          "data": {
            "text/plain": [
              "array([[-15.90610513,   3.33246473],\n",
              "       [ -5.25511693,   1.18335621],\n",
              "       [-14.0870789 ,   7.91444742],\n",
              "       [ 23.30686523,   4.26906148],\n",
              "       [ -1.25946046,  21.27488273]])"
            ]
          },
          "metadata": {},
          "execution_count": 77
        }
      ]
    },
    {
      "cell_type": "code",
      "source": [
        "centroids=[]\n",
        "for i in cent:\n",
        "  centroids.append(i)\n",
        "centroids=np.array(centroids)\n",
        "centroids.shapey"
      ],
      "metadata": {
        "colab": {
          "base_uri": "https://localhost:8080/"
        },
        "id": "9suKkS6_x_Vy",
        "outputId": "8b72799d-e593-4023-be43-fd566dd828bb"
      },
      "execution_count": 103,
      "outputs": [
        {
          "output_type": "execute_result",
          "data": {
            "text/plain": [
              "(5, 2)"
            ]
          },
          "metadata": {},
          "execution_count": 103
        }
      ]
    },
    {
      "cell_type": "code",
      "source": [
        "np.vstack(centroids)"
      ],
      "metadata": {
        "colab": {
          "base_uri": "https://localhost:8080/"
        },
        "id": "nB3gxVfxyHQa",
        "outputId": "08b076aa-5767-4879-fe85-49571de65f18"
      },
      "execution_count": 85,
      "outputs": [
        {
          "output_type": "execute_result",
          "data": {
            "text/plain": [
              "array([[-15.90610513,   3.33246473],\n",
              "       [ -5.25511693,   1.18335621],\n",
              "       [-14.0870789 ,   7.91444742],\n",
              "       [ 23.30686523,   4.26906148],\n",
              "       [ -1.25946046,  21.27488273]])"
            ]
          },
          "metadata": {},
          "execution_count": 85
        }
      ]
    },
    {
      "cell_type": "code",
      "source": [
        "x=np.array([1,2])\n",
        "y=np.array([2,3])\n"
      ],
      "metadata": {
        "id": "kAwG2QnKyLRO"
      },
      "execution_count": null,
      "outputs": []
    },
    {
      "cell_type": "markdown",
      "source": [
        "# the k-means algorithm code "
      ],
      "metadata": {
        "id": "jJ55iGGbK9dD"
      }
    },
    {
      "cell_type": "code",
      "source": [
        "# now its time to design the kmeans algorithms\n",
        "def kmeans(x,k,itr):\n",
        "  idx=np.random.choice(len(x),k,replace=False)\n",
        "  centroids=x[idx,:]\n",
        "  \n",
        "  \n",
        "  \n",
        "  for _ in range(itr):\n",
        "    dist=cdist(x,centroids,'euclidean')\n",
        "    points=np.argmin(dist,axis=1)\n",
        "    \n",
        "    centroids=[]\n",
        "    for i in range(k):\n",
        "      temp_cent=np.mean(x[points==i],axis=0)\n",
        "      centroids.append(temp_cent)\n",
        "    centroids=np.array(centroids)\n",
        "  return points,np.mean(dist[:,points])\n",
        "    \n",
        "    "
      ],
      "metadata": {
        "id": "legI3SAT1RNo"
      },
      "execution_count": 185,
      "outputs": []
    },
    {
      "cell_type": "code",
      "source": [
        ""
      ],
      "metadata": {
        "id": "mudx7gmoIE45"
      },
      "execution_count": null,
      "outputs": []
    },
    {
      "cell_type": "code",
      "source": [
        "km,dis=kmeans(x,10,1000)"
      ],
      "metadata": {
        "id": "sNAgJhrW22ba"
      },
      "execution_count": 186,
      "outputs": []
    },
    {
      "cell_type": "code",
      "source": [
        "dis"
      ],
      "metadata": {
        "colab": {
          "base_uri": "https://localhost:8080/"
        },
        "id": "gmJmLdTQIF-A",
        "outputId": "1fc0095e-a770-4da0-f71e-bf9e3f00b6dd"
      },
      "execution_count": 187,
      "outputs": [
        {
          "output_type": "execute_result",
          "data": {
            "text/plain": [
              "40.48609795768881"
            ]
          },
          "metadata": {},
          "execution_count": 187
        }
      ]
    },
    {
      "cell_type": "markdown",
      "source": [
        "# to choose the best kmean with the least average distance"
      ],
      "metadata": {
        "id": "XgYTt6s0LDKE"
      }
    },
    {
      "cell_type": "code",
      "source": [
        "\n",
        "dist=1e7\n",
        "for i in range (100):\n",
        "  \n",
        "  km,dis=kmeans(x,10,1000)\n",
        "  if(dist>dis):\n",
        "    dist=dis\n",
        "    res=km\n",
        "  print(i)\n",
        "  print(dist)"
      ],
      "metadata": {
        "colab": {
          "base_uri": "https://localhost:8080/"
        },
        "id": "spXQS-dBIOv0",
        "outputId": "413afcae-a73c-4a92-bc19-e537603f2238"
      },
      "execution_count": 196,
      "outputs": [
        {
          "output_type": "stream",
          "name": "stdout",
          "text": [
            "0\n",
            "40.74078187115946\n",
            "1\n",
            "40.74078187115946\n",
            "2\n",
            "40.74078187115946\n",
            "3\n",
            "40.74078187115946\n",
            "4\n",
            "40.74078187115946\n",
            "5\n",
            "40.43637774811595\n",
            "6\n",
            "40.43637774811595\n",
            "7\n",
            "40.43637774811595\n",
            "8\n",
            "40.43637774811595\n",
            "9\n",
            "40.43637774811595\n",
            "10\n",
            "40.43637774811595\n",
            "11\n",
            "40.43637774811595\n",
            "12\n",
            "40.43637774811595\n",
            "13\n",
            "40.43637774811595\n",
            "14\n",
            "40.43637774811595\n",
            "15\n",
            "40.43637774811595\n",
            "16\n",
            "40.43637774811595\n",
            "17\n",
            "40.43637774811595\n",
            "18\n",
            "40.43637774811595\n",
            "19\n",
            "40.43637774811595\n",
            "20\n",
            "40.43637774811595\n",
            "21\n",
            "40.43637774811595\n",
            "22\n",
            "40.43637774811595\n",
            "23\n",
            "40.43637774811595\n",
            "24\n",
            "40.43637774811595\n",
            "25\n",
            "40.43637774811595\n",
            "26\n",
            "40.43637774811595\n",
            "27\n",
            "40.43637774811595\n",
            "28\n",
            "40.43637774811595\n",
            "29\n",
            "40.43637774811595\n",
            "30\n",
            "40.43637774811595\n",
            "31\n",
            "40.43637774811595\n",
            "32\n",
            "40.43637774811595\n",
            "33\n",
            "40.43637774811595\n",
            "34\n",
            "40.43637774811595\n",
            "35\n",
            "40.43637774811595\n",
            "36\n",
            "40.43637774811595\n",
            "37\n",
            "40.43637774811595\n",
            "38\n",
            "40.43637774811595\n",
            "39\n",
            "40.43637774811595\n",
            "40\n",
            "40.43637774811595\n",
            "41\n",
            "40.43637774811595\n",
            "42\n",
            "40.43637774811595\n",
            "43\n",
            "40.43637774811595\n",
            "44\n",
            "40.43637774811595\n",
            "45\n",
            "40.43637774811595\n",
            "46\n",
            "40.43637774811595\n",
            "47\n",
            "40.382545262672956\n",
            "48\n",
            "40.382545262672956\n",
            "49\n",
            "40.382545262672956\n",
            "50\n",
            "40.382545262672956\n",
            "51\n",
            "40.382545262672956\n",
            "52\n",
            "40.382545262672956\n",
            "53\n",
            "40.382545262672956\n",
            "54\n",
            "40.382545262672956\n",
            "55\n",
            "40.382545262672956\n",
            "56\n",
            "40.382545262672956\n",
            "57\n",
            "40.382545262672956\n",
            "58\n",
            "40.382545262672956\n",
            "59\n",
            "40.382545262672956\n",
            "60\n",
            "40.382545262672956\n",
            "61\n",
            "40.382545262672956\n",
            "62\n",
            "40.382545262672956\n",
            "63\n",
            "40.382545262672956\n",
            "64\n",
            "40.382545262672956\n",
            "65\n",
            "40.382545262672956\n",
            "66\n",
            "40.382545262672956\n",
            "67\n",
            "40.382545262672956\n",
            "68\n",
            "40.382545262672956\n",
            "69\n",
            "40.382545262672956\n",
            "70\n",
            "40.382545262672956\n",
            "71\n",
            "40.382545262672956\n",
            "72\n",
            "40.382545262672956\n",
            "73\n",
            "40.382545262672956\n",
            "74\n",
            "40.382545262672956\n",
            "75\n",
            "40.382545262672956\n",
            "76\n",
            "40.382545262672956\n",
            "77\n",
            "40.382545262672956\n",
            "78\n",
            "40.382545262672956\n",
            "79\n",
            "40.382545262672956\n",
            "80\n",
            "40.382545262672956\n",
            "81\n",
            "40.382545262672956\n",
            "82\n",
            "40.382545262672956\n",
            "83\n",
            "40.382545262672956\n",
            "84\n",
            "40.382545262672956\n",
            "85\n",
            "40.382545262672956\n",
            "86\n",
            "40.382545262672956\n",
            "87\n",
            "40.382545262672956\n",
            "88\n",
            "40.382545262672956\n",
            "89\n",
            "40.382545262672956\n",
            "90\n",
            "40.382545262672956\n",
            "91\n",
            "40.382545262672956\n",
            "92\n",
            "40.382545262672956\n",
            "93\n",
            "40.382545262672956\n",
            "94\n",
            "40.382545262672956\n",
            "95\n",
            "40.382545262672956\n",
            "96\n",
            "40.382545262672956\n",
            "97\n",
            "40.382545262672956\n",
            "98\n",
            "40.382545262672956\n",
            "99\n",
            "40.382545262672956\n"
          ]
        }
      ]
    },
    {
      "cell_type": "code",
      "source": [
        "labels=np.unique(km)\n",
        "for i in labels:\n",
        "  plt.scatter(df[km==i,0],df[km==i,1],label=i)\n",
        "plt.legend()\n",
        "plt.show()"
      ],
      "metadata": {
        "colab": {
          "base_uri": "https://localhost:8080/",
          "height": 265
        },
        "id": "aZ0wLA4HKARk",
        "outputId": "7dd215c4-4aa9-461c-c56a-62ad935407cd"
      },
      "execution_count": 197,
      "outputs": [
        {
          "output_type": "display_data",
          "data": {
            "image/png": "[encoded data removed]",
            "text/plain": [
              "<Figure size 432x288 with 1 Axes>"
            ]
          },
          "metadata": {
            "needs_background": "light"
          }
        }
      ]
    },
    {
      "cell_type": "markdown",
      "source": [
        "# Testing the clusturing by showing the images of same cluster."
      ],
      "metadata": {
        "id": "O3B_sE5dLTRv"
      }
    },
    {
      "cell_type": "code",
      "source": [
        "for i in range(5):\n",
        "  data_1=data.data[km==9]\n",
        "  plt.matshow(data_1[20+i].reshape(8,-1))\n",
        "  plt.show()"
      ],
      "metadata": {
        "colab": {
          "base_uri": "https://localhost:8080/",
          "height": 1000
        },
        "id": "lPXGMed8LR9e",
        "outputId": "55d34fae-f719-4d26-98ee-d56732e76c26"
      },
      "execution_count": 200,
      "outputs": [
        {
          "output_type": "display_data",
          "data": {
            "image/png": "[encoded data removed]",
            "text/plain": [
              "<Figure size 288x288 with 1 Axes>"
            ]
          },
          "metadata": {
            "needs_background": "light"
          }
        },
        {
          "output_type": "display_data",
          "data": {
            "image/png": "[encoded data removed]",
            "text/plain": [
              "<Figure size 288x288 with 1 Axes>"
            ]
          },
          "metadata": {
            "needs_background": "light"
          }
        },
        {
          "output_type": "display_data",
          "data": {
            "image/png": "[encoded data removed]",
            "text/plain": [
              "<Figure size 288x288 with 1 Axes>"
            ]
          },
          "metadata": {
            "needs_background": "light"
          }
        },
        {
          "output_type": "display_data",
          "data": {
            "image/png": "[encoded data removed]",
            "text/plain": [
              "<Figure size 288x288 with 1 Axes>"
            ]
          },
          "metadata": {
            "needs_background": "light"
          }
        },
        {
          "output_type": "display_data",
          "data": {
            "image/png": "[encoded data removed]",
            "text/plain": [
              "<Figure size 288x288 with 1 Axes>"
            ]
          },
          "metadata": {
            "needs_background": "light"
          }
        }
      ]
    },
    {
      "cell_type": "markdown",
      "source": [
        "# apparently this cluster contains number 1"
      ],
      "metadata": {
        "id": "wogGaI5WNSlc"
      }
    },
    {
      "cell_type": "code",
      "source": [
        "for i in range(5):\n",
        "  data_1=data.data[km==7]\n",
        "  plt.matshow(data_1[30+i].reshape(8,-1))\n",
        "  plt.show()"
      ],
      "metadata": {
        "colab": {
          "base_uri": "https://localhost:8080/",
          "height": 1000
        },
        "id": "FB1_okixNCTA",
        "outputId": "db501aaf-4b7c-4d42-d455-94ddcc80029f"
      },
      "execution_count": 203,
      "outputs": [
        {
          "output_type": "display_data",
          "data": {
            "image/png": "[encoded data removed]",
            "text/plain": [
              "<Figure size 288x288 with 1 Axes>"
            ]
          },
          "metadata": {
            "needs_background": "light"
          }
        },
        {
          "output_type": "display_data",
          "data": {
            "image/png": "[encoded data removed]",
            "text/plain": [
              "<Figure size 288x288 with 1 Axes>"
            ]
          },
          "metadata": {
            "needs_background": "light"
          }
        },
        {
          "output_type": "display_data",
          "data": {
            "image/png": "[encoded data removed]",
            "text/plain": [
              "<Figure size 288x288 with 1 Axes>"
            ]
          },
          "metadata": {
            "needs_background": "light"
          }
        },
        {
          "output_type": "display_data",
          "data": {
            "image/png": "[encoded data removed]",
            "text/plain": [
              "<Figure size 288x288 with 1 Axes>"
            ]
          },
          "metadata": {
            "needs_background": "light"
          }
        },
        {
          "output_type": "display_data",
          "data": {
            "image/png": "[encoded data removed]",
            "text/plain": [
              "<Figure size 288x288 with 1 Axes>"
            ]
          },
          "metadata": {
            "needs_background": "light"
          }
        }
      ]
    },
    {
      "cell_type": "markdown",
      "source": [
        "# and this cluster contains number 5"
      ],
      "metadata": {
        "id": "k4QXLsaTNYWm"
      }
    },
    {
      "cell_type": "code",
      "source": [
        "dist"
      ],
      "metadata": {
        "colab": {
          "base_uri": "https://localhost:8080/"
        },
        "id": "AXbE2fXW9ZhA",
        "outputId": "3c6e6faf-88dd-4c0c-e4e6-651688733157"
      },
      "execution_count": 192,
      "outputs": [
        {
          "output_type": "execute_result",
          "data": {
            "text/plain": [
              "40.583885602906804"
            ]
          },
          "metadata": {},
          "execution_count": 192
        }
      ]
    },
    {
      "cell_type": "code",
      "source": [
        "arr=np.array([0, 1, 0, 1, 0])\n",
        "cent[arr==1]"
      ],
      "metadata": {
        "colab": {
          "base_uri": "https://localhost:8080/"
        },
        "id": "sTc-qbP226at",
        "outputId": "58c1501d-2d4d-462c-d295-3958bb39bc4b"
      },
      "execution_count": 119,
      "outputs": [
        {
          "output_type": "execute_result",
          "data": {
            "text/plain": [
              "array([[-5.25511693,  1.18335621],\n",
              "       [23.30686523,  4.26906148]])"
            ]
          },
          "metadata": {},
          "execution_count": 119
        }
      ]
    },
    {
      "cell_type": "code",
      "source": [
        "arr==1"
      ],
      "metadata": {
        "colab": {
          "base_uri": "https://localhost:8080/"
        },
        "id": "-d25Szkz44r7",
        "outputId": "11d1cd64-ec1c-49b6-de28-64378bbf3545"
      },
      "execution_count": 120,
      "outputs": [
        {
          "output_type": "execute_result",
          "data": {
            "text/plain": [
              "array([False,  True, False,  True, False])"
            ]
          },
          "metadata": {},
          "execution_count": 120
        }
      ]
    },
    {
      "cell_type": "code",
      "source": [
        "arr=np.arange(12).reshape(6,2)\n",
        "arr"
      ],
      "metadata": {
        "colab": {
          "base_uri": "https://localhost:8080/"
        },
        "id": "hf0bk8X25Csz",
        "outputId": "d1e3d9ce-4a57-4f94-b723-1ef1879bd2a0"
      },
      "execution_count": 134,
      "outputs": [
        {
          "output_type": "execute_result",
          "data": {
            "text/plain": [
              "array([[ 0,  1],\n",
              "       [ 2,  3],\n",
              "       [ 4,  5],\n",
              "       [ 6,  7],\n",
              "       [ 8,  9],\n",
              "       [10, 11]])"
            ]
          },
          "metadata": {},
          "execution_count": 134
        }
      ]
    },
    {
      "cell_type": "code",
      "source": [
        "np.mean(arr,axis=0)"
      ],
      "metadata": {
        "colab": {
          "base_uri": "https://localhost:8080/"
        },
        "id": "actr-ip9702o",
        "outputId": "7c8ea55a-4f65-4b96-9906-b7550b7f04f2"
      },
      "execution_count": 135,
      "outputs": [
        {
          "output_type": "execute_result",
          "data": {
            "text/plain": [
              "array([5., 6.])"
            ]
          },
          "metadata": {},
          "execution_count": 135
        }
      ]
    },
    {
      "cell_type": "code",
      "source": [
        "data_1=data.data[km==9]"
      ],
      "metadata": {
        "id": "BPaex6cB7_65"
      },
      "execution_count": 164,
      "outputs": []
    },
    {
      "cell_type": "code",
      "source": [
        "plt.matshow(data_1[98].reshape(8,-1))\n",
        "plt.show()"
      ],
      "metadata": {
        "colab": {
          "base_uri": "https://localhost:8080/",
          "height": 275
        },
        "id": "yf7QiDiZ9nuK",
        "outputId": "ff27f26d-ad9d-41e5-b031-f0725028a950"
      },
      "execution_count": 167,
      "outputs": [
        {
          "output_type": "display_data",
          "data": {
            "image/png": "[encoded data removed]",
            "text/plain": [
              "<Figure size 288x288 with 1 Axes>"
            ]
          },
          "metadata": {
            "needs_background": "light"
          }
        }
      ]
    },
    {
      "cell_type": "code",
      "source": [
        "labels=np.unique(km)\n",
        "for i in labels:\n",
        "  plt.scatter(df[km==i,0],df[km==i,1],label=i)\n",
        "plt.legend()\n",
        "plt.show()"
      ],
      "metadata": {
        "colab": {
          "base_uri": "https://localhost:8080/",
          "height": 265
        },
        "id": "mQPQYdzT96Nd",
        "outputId": "5331b3cd-c350-46b2-fb6b-551305512e8a"
      },
      "execution_count": 170,
      "outputs": [
        {
          "output_type": "display_data",
          "data": {
            "image/png": "[encoded data removed]",
            "text/plain": [
              "<Figure size 432x288 with 1 Axes>"
            ]
          },
          "metadata": {
            "needs_background": "light"
          }
        }
      ]
    },
    {
      "cell_type": "code",
      "source": [
        "labels=np.unique(km)\n",
        "for i in labels:\n",
        "  plt.scatter(df[km==i,0],df[km==i,1],label=i)\n",
        "plt.legend()\n",
        "plt.show()"
      ],
      "metadata": {
        "colab": {
          "base_uri": "https://localhost:8080/",
          "height": 265
        },
        "id": "OoF2gIIV_pkz",
        "outputId": "e0f02f50-edf4-4b75-95c8-63fb54410e11"
      },
      "execution_count": 172,
      "outputs": [
        {
          "output_type": "display_data",
          "data": {
            "image/png": "[encoded data removed]",
            "text/plain": [
              "<Figure size 432x288 with 1 Axes>"
            ]
          },
          "metadata": {
            "needs_background": "light"
          }
        }
      ]
    }
  ]
}